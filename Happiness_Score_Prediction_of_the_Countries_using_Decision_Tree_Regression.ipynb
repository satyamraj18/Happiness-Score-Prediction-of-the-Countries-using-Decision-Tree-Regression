{
  "nbformat": 4,
  "nbformat_minor": 0,
  "metadata": {
    "colab": {
      "name": "Happiness Score Prediction of the Countries using Decision Tree Regression",
      "provenance": [],
      "collapsed_sections": [],
      "toc_visible": true,
      "authorship_tag": "ABX9TyOyaWfnBW09dSfTMdYzLV6f",
      "include_colab_link": true
    },
    "kernelspec": {
      "name": "python3",
      "display_name": "Python 3"
    }
  },
  "cells": [
    {
      "cell_type": "markdown",
      "metadata": {
        "id": "view-in-github",
        "colab_type": "text"
      },
      "source": [
        "<a href=\"https://colab.research.google.com/github/satyamraj18/Happiness-Score-Prediction-of-the-Countries-using-Decision-Tree-Regression/blob/main/Happiness_Score_Prediction_of_the_Countries_using_Decision_Tree_Regression.ipynb\" target=\"_parent\"><img src=\"https://colab.research.google.com/assets/colab-badge.svg\" alt=\"Open In Colab\"/></a>"
      ]
    },
    {
      "cell_type": "markdown",
      "metadata": {
        "id": "tutvPQj6JDFf"
      },
      "source": [
        "## Importing Packages"
      ]
    },
    {
      "cell_type": "code",
      "metadata": {
        "id": "EvUVMEHwJB1I"
      },
      "source": [
        "import pandas as pd\n",
        "import matplotlib.pyplot as plt\n",
        "import numpy as np"
      ],
      "execution_count": null,
      "outputs": []
    },
    {
      "cell_type": "markdown",
      "metadata": {
        "id": "u0mCRcXfJbJ6"
      },
      "source": [
        "## Importing Datasets"
      ]
    },
    {
      "cell_type": "code",
      "metadata": {
        "id": "XsIqDEL4Jd-O"
      },
      "source": [
        "dataset = pd.read_csv(\"Happiness1.csv\")\n",
        "X = dataset.iloc[:, 3:-1].values\n",
        "y = dataset.iloc[:, -1].values"
      ],
      "execution_count": null,
      "outputs": []
    },
    {
      "cell_type": "markdown",
      "metadata": {
        "id": "GWAK66c7JwhA"
      },
      "source": [
        "## Handling Missing Data"
      ]
    },
    {
      "cell_type": "code",
      "metadata": {
        "id": "fcfTJmgwJvcd"
      },
      "source": [
        "from sklearn.impute import SimpleImputer\n",
        "imputer = SimpleImputer(missing_values=np.nan,strategy=\"mean\")\n",
        "imputer.fit(X)\n",
        "X = imputer.transform(X)"
      ],
      "execution_count": null,
      "outputs": []
    },
    {
      "cell_type": "markdown",
      "metadata": {
        "id": "DlElymKAMlCK"
      },
      "source": [
        "## Splitting the Dataset"
      ]
    },
    {
      "cell_type": "code",
      "metadata": {
        "id": "NLWtXn1ZMo2U"
      },
      "source": [
        "from sklearn.model_selection import train_test_split\n",
        "X_train,X_test,y_train,y_test = train_test_split(X,y,test_size=0.2,random_state=0)"
      ],
      "execution_count": null,
      "outputs": []
    },
    {
      "cell_type": "markdown",
      "metadata": {
        "id": "L5gz3u4PNB1f"
      },
      "source": [
        "## Training the Model"
      ]
    },
    {
      "cell_type": "code",
      "metadata": {
        "id": "X3WEYu48NP_w",
        "colab": {
          "base_uri": "https://localhost:8080/",
          "height": 119
        },
        "outputId": "b7bbaf2d-97ca-4eb5-afe8-685800822312"
      },
      "source": [
        "from sklearn.tree import DecisionTreeRegressor\n",
        "regressor = DecisionTreeRegressor(random_state=0)\n",
        "regressor.fit(X_train,y_train)"
      ],
      "execution_count": null,
      "outputs": [
        {
          "output_type": "execute_result",
          "data": {
            "text/plain": [
              "DecisionTreeRegressor(ccp_alpha=0.0, criterion='mse', max_depth=None,\n",
              "                      max_features=None, max_leaf_nodes=None,\n",
              "                      min_impurity_decrease=0.0, min_impurity_split=None,\n",
              "                      min_samples_leaf=1, min_samples_split=2,\n",
              "                      min_weight_fraction_leaf=0.0, presort='deprecated',\n",
              "                      random_state=0, splitter='best')"
            ]
          },
          "metadata": {
            "tags": []
          },
          "execution_count": 10
        }
      ]
    },
    {
      "cell_type": "markdown",
      "metadata": {
        "id": "lhbqQdxXN4hN"
      },
      "source": [
        "## Comparing the Test set and Predicted Result"
      ]
    },
    {
      "cell_type": "code",
      "metadata": {
        "id": "ZbswcOFmN8N9",
        "colab": {
          "base_uri": "https://localhost:8080/",
          "height": 561
        },
        "outputId": "3e48fd1f-4bf9-47bc-b456-3377503e6971"
      },
      "source": [
        "y_pred = regressor.predict(X_test)\n",
        "np.set_printoptions(precision=2)\n",
        "print(np.concatenate((y_pred.reshape(len(y_pred),1),y_test.reshape(len(y_test),1)),1))"
      ],
      "execution_count": null,
      "outputs": [
        {
          "output_type": "stream",
          "text": [
            "[[7.28 7.36]\n",
            " [6.57 6.  ]\n",
            " [4.52 4.63]\n",
            " [4.79 4.51]\n",
            " [6.5  5.72]\n",
            " [5.13 4.51]\n",
            " [4.52 4.51]\n",
            " [3.59 3.96]\n",
            " [5.48 4.69]\n",
            " [5.1  5.01]\n",
            " [5.75 6.79]\n",
            " [4.79 3.9 ]\n",
            " [5.75 6.67]\n",
            " [5.69 5.77]\n",
            " [4.57 5.19]\n",
            " [4.8  4.88]\n",
            " [2.9  4.3 ]\n",
            " [4.35 4.88]\n",
            " [5.21 3.9 ]\n",
            " [5.29 5.83]\n",
            " [5.43 5.99]\n",
            " [7.12 6.46]\n",
            " [5.43 5.79]\n",
            " [7.41 7.29]\n",
            " [6.27 6.17]\n",
            " [5.95 6.3 ]\n",
            " [5.12 4.86]\n",
            " [6.29 6.9 ]\n",
            " [4.35 3.82]\n",
            " [5.01 4.69]\n",
            " [5.36 5.89]\n",
            " [6.3  5.85]]\n"
          ],
          "name": "stdout"
        }
      ]
    }
  ]
}